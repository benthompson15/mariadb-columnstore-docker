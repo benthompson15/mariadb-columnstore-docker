{
 "cells": [
  {
   "cell_type": "markdown",
   "metadata": {},
   "source": [
    "# Scala mcsapi connector Test\n",
    "## Testing the scala mcsapi connector\n",
    "Include the necessary libraries for testing:"
   ]
  },
  {
   "cell_type": "code",
   "execution_count": null,
   "metadata": {},
   "outputs": [],
   "source": [
    "import com.mariadb.columnstore.api.connector.ColumnStoreExporter\n",
    "import java.math.{BigDecimal,BigInteger,MathContext}\n",
    "import org.apache.spark.sql.SQLContext\n",
    "import org.junit.Test;\n",
    "import java.util.Properties\n",
    "import org.junit.Assert._\n",
    "import java.sql.{DriverManager,Connection,Date,Timestamp,PreparedStatement,ResultSet,SQLException}\n",
    "val sqlContext = new SQLContext(sc)\n",
    "import sqlContext.implicits._"
   ]
  },
  {
   "cell_type": "markdown",
   "metadata": {},
   "source": [
    "Create the test table, through JDBC."
   ]
  },
  {
   "cell_type": "code",
   "execution_count": null,
   "metadata": {},
   "outputs": [],
   "source": [
    "val url = \"jdbc:mysql://columnstore_host_nm:3306/test\"\n",
    "var connectionProperties = new Properties()\n",
    "connectionProperties.put(\"user\", \"jupiter_user\")\n",
    "connectionProperties.put(\"password\", \"jupiter_pass\")\n",
    "connectionProperties.put(\"driver\", \"org.mariadb.jdbc.Driver\")\n",
    "var connection:Connection = _\n",
    "try {\n",
    "    connection = DriverManager.getConnection(url, connectionProperties)\n",
    "    val statement = connection.createStatement\n",
    "    val rs1 = statement.executeQuery(\"\"\"DROP TABLE IF EXISTS scalatest\"\"\")\n",
    "    val rs2 = statement.executeQuery(\"\"\"\n",
    "    CREATE TABLE scalatest (\n",
    "    uint64 bigint unsigned,\n",
    "    int64 bigint,\n",
    "    uint32 int unsigned,\n",
    "    int32 int,\n",
    "    uint16 smallint unsigned,\n",
    "    int16 smallint,\n",
    "    uint8 tinyint unsigned,\n",
    "    `int8` tinyint,\n",
    "    f float,\n",
    "    d double,\n",
    "    ch4 char(5),\n",
    "    vch30 varchar(30),\n",
    "    dt date,\n",
    "    dtm datetime,\n",
    "    dc decimal(18),\n",
    "    tx text,\n",
    "    bit tinyint(1),\n",
    "    mathInt bigint unsigned,\n",
    "    dc2 decimal(18,9))\n",
    "    ENGINE=columnstore\"\"\")\n",
    "} catch {\n",
    "    case e: Exception => e.printStackTrace\n",
    "}"
   ]
  },
  {
   "cell_type": "markdown",
   "metadata": {},
   "source": [
    "Create the test DataFrame to insert into scalatest."
   ]
  },
  {
   "cell_type": "code",
   "execution_count": null,
   "metadata": {
    "scrolled": true
   },
   "outputs": [],
   "source": [
    "val testDF = Seq(\n",
    "  (1L, 2L, 3L, 4, 5, 6, 7, 8, 1.234F, 2.34567F, \"ABCD\", \"Hello World\", Date.valueOf(\"2017-09-08\"), Timestamp.valueOf(\"2017-09-08 13:58:23\"), new BigDecimal(123), \"Hello World Longer\", true, new BigInteger(\"9223372036854775807\"), new BigDecimal(\"-0.000000001\",MathContext.UNLIMITED)),\n",
    "  (0L, -9223372036854775806L, 0L, -2147483646, 0, -32766, 0, -126, 1.234F, 2.34567F, \"A\", \"B\", Date.valueOf(\"1000-01-01\"), Timestamp.valueOf(\"1000-01-01 00:00:00\"), new BigDecimal(-123), \"C\", false, new BigInteger(\"18446744073709551613\"), new BigDecimal(\"100000000.999999999\",MathContext.UNLIMITED)),\n",
    "  (9223372036854775807L, 9223372036854775807L, 4294967293L, 2147483647, 65533, 32767, 253, 127, 1.234F, 2.34567F, \"ZYXW\", \"012345678901234567890123456789\", Date.valueOf(\"9999-12-31\"), Timestamp.valueOf(\"9999-12-31 23:59:59\"), new BigDecimal(123), \"012345678901234567890123456789\", true, new BigInteger(\"2342\"), new BigDecimal(\"23.42\"))\n",
    ").toDF(\"uint64\", \"int64\", \"uint32\", \"int32\", \"uint16\", \"int16\", \"uint8\", \"int8\", \"f\", \"d\", \"ch4\", \"vch30\", \"dt\", \"dtm\", \"dc\", \"tx\", \"bit\", \"mathInt\", \"dc2\")\n",
    "\n",
    "testDF.printSchema()\n",
    "testDF.registerTempTable(\"df\")\n",
    "sqlContext.sql(\"SELECT * from df\").show()"
   ]
  },
  {
   "cell_type": "markdown",
   "metadata": {},
   "source": [
    " and is inserted into MariaDB CoumnStore through ColumnstoreExporter in database \"test\" and created table \"scalatest\"."
   ]
  },
  {
   "cell_type": "code",
   "execution_count": null,
   "metadata": {},
   "outputs": [],
   "source": [
    "ColumnStoreExporter.export(\"test\",\"scalatest\",testDF)"
   ]
  },
  {
   "cell_type": "markdown",
   "metadata": {},
   "source": [
    "Validate the correctness of the insert"
   ]
  },
  {
   "cell_type": "code",
   "execution_count": null,
   "metadata": {},
   "outputs": [],
   "source": [
    "def verifyAllTypes(conn: Connection, id: Long, expected: String) : Unit = {\n",
    "        val QUERY_ALL_TYPES = \"select uint64, int64, uint32, int32, uint16, int16, uint8, `int8`, \" +\n",
    "                \"f, d, ch4, vch30, dt, dtm, dc, tx, bit, mathInt, dc2 from scalatest where uint64 = ?\"\n",
    "        var stmt: PreparedStatement = null\n",
    "        var rs: ResultSet = null\n",
    "        try {\n",
    "           stmt = conn.prepareStatement(QUERY_ALL_TYPES)\n",
    "           stmt.setLong(1, id)\n",
    "           rs = stmt.executeQuery()\n",
    "           assertTrue(rs.next())\n",
    "           var str = new StringBuffer()\n",
    "           val colCount = stmt.getMetaData().getColumnCount()\n",
    "           for (i <- 1 to colCount){\n",
    "               if (i>1) str.append(\", \")\n",
    "               str.append(rs.getObject(i))\n",
    "           }\n",
    "           assertEquals(expected, str.toString())\n",
    "        }\n",
    "        catch {\n",
    "            case e: SQLException => println(\"Error while validating all_types results for id: \" + id + \", error:\" + e)\n",
    "        }\n",
    "        finally {\n",
    "            rs.close\n",
    "            stmt.close\n",
    "        }\n",
    "    }\n",
    "\n",
    "verifyAllTypes(connection, 1L, \"1, 2, 3, 4, 5, 6, 7, 8, 1.234, 2.345669984817505, ABCD, Hello World, 2017-09-08, 2017-09-08 13:58:23.0, 123, Hello World Longer, true, 9223372036854775807, -1E-9\");\n",
    "verifyAllTypes(connection, 0L, \"0, -9223372036854775806, 0, -2147483646, 0, -32766, 0, -126, 1.234, 2.345669984817505, A, B, 1000-01-01, 1000-01-01 00:00:00.0, -123, C, false, 18446744073709551613, 100000000.999999999\");\n",
    "verifyAllTypes(connection, 9223372036854775807L, \"9223372036854775807, 9223372036854775807, 4294967293, 2147483647, 65533, 32767, 253, 127, 1.234, 2.345669984817505, ZYXW, 012345678901234567890123456789, 9999-12-31, 9999-12-31 23:59:59.0, 123, 012345678901234567890123456789, true, 2342, 23.420000000\");"
   ]
  },
  {
   "cell_type": "code",
   "execution_count": null,
   "metadata": {},
   "outputs": [],
   "source": [
    "connection.close"
   ]
  }
 ],
 "metadata": {
  "kernelspec": {
   "display_name": "Apache Toree - Scala",
   "language": "scala",
   "name": "apache_toree_scala"
  },
  "language_info": {
   "file_extension": ".scala",
   "name": "scala",
   "version": "2.11.8"
  }
 },
 "nbformat": 4,
 "nbformat_minor": 2
}
