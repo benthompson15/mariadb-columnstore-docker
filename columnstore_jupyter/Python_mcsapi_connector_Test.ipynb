{
 "cells": [
  {
   "cell_type": "markdown",
   "metadata": {},
   "source": [
    "# Python mcsapi connector Test\n",
    "## Testing the python mcsapi connector\n",
    "Include the necessary libraries for testing:"
   ]
  },
  {
   "cell_type": "code",
   "execution_count": null,
   "metadata": {
    "scrolled": true
   },
   "outputs": [],
   "source": [
    "import columnStoreExporter\n",
    "from pyspark import SparkContext\n",
    "from pyspark.sql import Row, SQLContext, SparkSession\n",
    "import mysql.connector as mariadb\n",
    "import pytest, sys, datetime, decimal\n",
    "sc = SparkContext(\"local\", \"MariaDB Spark ColumnStore example\")\n",
    "sqlContext = SQLContext(sc)\n",
    "spark = SparkSession(sc)\n",
    "if sys.version_info[0] == 3:\n",
    "        long = int"
   ]
  },
  {
   "cell_type": "markdown",
   "metadata": {},
   "source": [
    "Create the test table, through JDBC."
   ]
  },
  {
   "cell_type": "code",
   "execution_count": null,
   "metadata": {
    "scrolled": true
   },
   "outputs": [],
   "source": [
    "try:\n",
    "    conn = mariadb.connect(user='jupiter_user', password='jupiter_pass', host='columnstore_host_nm', database='test')\n",
    "    cursor = conn.cursor();\n",
    "    cursor.execute(\"DROP TABLE IF EXISTS pythontest\")\n",
    "    cursor.execute(\" \\\n",
    "    CREATE TABLE pythontest ( \\\n",
    "    uint64 bigint unsigned, \\\n",
    "    int64 bigint, \\\n",
    "    uint32 int unsigned, \\\n",
    "    int32 int, \\\n",
    "    uint16 smallint unsigned, \\\n",
    "    int16 smallint, \\\n",
    "    uint8 tinyint unsigned, \\\n",
    "    `int8` tinyint, \\\n",
    "    f float, \\\n",
    "    d double, \\\n",
    "    ch4 char(5), \\\n",
    "    vch30 varchar(30), \\\n",
    "    dt date, \\\n",
    "    dtm datetime, \\\n",
    "    dc decimal(18), \\\n",
    "    tx text, \\\n",
    "    bit tinyint(1), \\\n",
    "    mathInt bigint unsigned, \\\n",
    "    dc2 decimal(18,9)) \\\n",
    "    ENGINE=columnstore\")\n",
    "    \n",
    "except mariadb.Error as err:\n",
    "    pytest.fail(\"Error creating table pythontest\")\n",
    "finally:\n",
    "    if cursor: cursor.close()\n",
    "    if conn: conn.close()"
   ]
  },
  {
   "cell_type": "markdown",
   "metadata": {},
   "source": [
    "Create the test DataFrame to insert into scalatest."
   ]
  },
  {
   "cell_type": "code",
   "execution_count": null,
   "metadata": {
    "scrolled": false
   },
   "outputs": [],
   "source": [
    "TestRowStructure = Row(\"uint64\", \"int64\", \"uint32\", \"int32\", \"uint16\", \"int16\", \"uint8\", \"int8\", \"f\", \"d\", \"ch4\", \"vch30\", \"dt\", \"dtm\", \"dc\", \"tx\", \"bit\", \"mathInt\", \"dc2\")\n",
    "testCase1 = TestRowStructure(long(1), long(2), long(3), int(4), int(5), int(6), int(7), int(8), float(1.234), float(2.34567), \"ABCD\", \"Hello World\", datetime.date(2017,9,8), datetime.datetime(2017,9,8,13,58,23), decimal.Decimal(123), \"Hello World Longer\", True, decimal.Decimal(\"9223372036854775807\"), decimal.Decimal(\"-0.000000001\"))\n",
    "testCase2 = TestRowStructure(long(0), long(-9223372036854775806), long(0), int(-2147483646), int(0), int(-32766), int(0), int(-126), float(1.234), float(2.34567), \"A\", \"B\", datetime.date(1000,1,1), datetime.datetime(1000,1,1,0,0,0), decimal.Decimal(-123), \"C\", False, decimal.Decimal(\"18446744073709551613\"), decimal.Decimal(\"100000000.999999999\"))\n",
    "testCase3 = TestRowStructure(long(9223372036854775807), long(9223372036854775807), long(4294967293), int(2147483647), int(65533), int(32767), int(253), int(127), float(1.234), float(2.34567), \"ZYXW\", \"012345678901234567890123456789\", datetime.date(9999,12,31), datetime.datetime(9999,12,31,23,59,59), decimal.Decimal(123), \"012345678901234567890123456789\", True, decimal.Decimal(\"2342\"), decimal.Decimal(\"23.42\"))\n",
    "\n",
    "testCaseSeq = [testCase1, testCase2, testCase3]\n",
    "testDF = sqlContext.createDataFrame(testCaseSeq)\n",
    "\n",
    "testDF.printSchema()\n",
    "testDF.registerTempTable(\"df\")\n",
    "sqlContext.sql(\"SELECT * from df\").show()"
   ]
  },
  {
   "cell_type": "markdown",
   "metadata": {},
   "source": [
    " and is inserted into MariaDB CoumnStore through ColumnstoreExporter in database \"test\" and created table \"pythontest\"."
   ]
  },
  {
   "cell_type": "code",
   "execution_count": null,
   "metadata": {
    "scrolled": true
   },
   "outputs": [],
   "source": [
    "columnStoreExporter.export(\"test\",\"pythontest\",testDF)"
   ]
  },
  {
   "cell_type": "markdown",
   "metadata": {},
   "source": [
    "Validate the correctness of the insert"
   ]
  },
  {
   "cell_type": "code",
   "execution_count": null,
   "metadata": {
    "scrolled": true
   },
   "outputs": [],
   "source": [
    "def verifyAllTypes(conn, rowid, expected):\n",
    "    query_all_types = \"select uint64, int64, uint32, int32, uint16, int16, uint8, `int8`, f, d, ch4, vch30, dt, dtm, dc, tx, bit, mathInt, dc2 from pythontest where uint64 = %s\"\n",
    "    try:\n",
    "        cursor = conn.cursor()\n",
    "        cursor.execute(query_all_types, (rowid,))\n",
    "        for (uint64, int64, uint32, int32, uint16, int16, uint8, int8, f, d, ch4, vch30, dt, dtm, dc, tx, bit, mathInt, dc2) in cursor:\n",
    "            rowStr = \"{}, {}, {}, {}, {}, {}, {}, {}, {}, {}, {}, {}, {}, {}, {}, {}, {}, {}, {}\".format(uint64, int64, uint32, int32, uint16, int16, uint8, int8, f, d, ch4, vch30, dt, dtm, dc, tx, bit, mathInt, dc2)\n",
    "            assert rowStr == expected\n",
    "    except mariadb.Error as err:\n",
    "        pytest.fail(\"Error executing query: %s, error: %s\" %(verifyAllTypes,err))\n",
    "    except AssertionError as e:\n",
    "        print(rowStr)\n",
    "        print(expected)\n",
    "        pytest.fail(\"Error executing query: %s, error: %s\" %(verifyAllTypes,e))\n",
    "    finally:\n",
    "        if cursor: cursor.close()\n",
    "\n",
    "connection = mariadb.connect(user='jupiter_user', password='jupiter_pass', host='columnstore_host_nm', database='test')\n",
    "verifyAllTypes(connection, 1, \"1, 2, 3, 4, 5, 6, 7, 8, 1.234, 2.34567, ABCD, Hello World, 2017-09-08, 2017-09-08 13:58:23, 123, Hello World Longer, 1, 9223372036854775807, -1E-9\")\n",
    "verifyAllTypes(connection, 0, \"0, -9223372036854775806, 0, -2147483646, 0, -32766, 0, -126, 1.234, 2.34567, A, B, 1000-01-01, 1000-01-01 00:00:00, -123, C, 0, 18446744073709551613, 100000000.999999999\")\n",
    "verifyAllTypes(connection, 9223372036854775807, \"9223372036854775807, 9223372036854775807, 4294967293, 2147483647, 65533, 32767, 253, 127, 1.234, 2.34567, ZYXW, 012345678901234567890123456789, 9999-12-31, 9999-12-31 23:59:59, 123, 012345678901234567890123456789, 1, 2342, 23.420000000\")\n",
    "connection.close()"
   ]
  }
 ],
 "metadata": {
  "kernelspec": {
   "display_name": "Python 3",
   "language": "python",
   "name": "python3"
  },
  "language_info": {
   "codemirror_mode": {
    "name": "ipython",
    "version": 3
   },
   "file_extension": ".py",
   "mimetype": "text/x-python",
   "name": "python",
   "nbconvert_exporter": "python",
   "pygments_lexer": "ipython3",
   "version": "3.6.3"
  }
 },
 "nbformat": 4,
 "nbformat_minor": 2
}
