{
 "cells": [
  {
   "cell_type": "markdown",
   "metadata": {},
   "source": [
    "# Python example\n",
    "## Insert through JDBC\n",
    "Variables to connect to MariaDB ColumnStore throuhg JDBC are set and a SparkContext is initiated."
   ]
  },
  {
   "cell_type": "code",
   "execution_count": null,
   "metadata": {},
   "outputs": [],
   "source": [
    "from pyspark import SparkContext\n",
    "from pyspark.sql import Row, SQLContext\n",
    "\n",
    "url = 'jdbc:mysql://columnstore_host_nm:3306'\n",
    "properties = {'user': 'jupiter_user', 'password': 'jupiter_pass', 'driver': 'org.mariadb.jdbc.Driver'}\n",
    "\n",
    "sc = SparkContext(\"local\", \"MariaDB Spark ColumnStore example\")\n",
    "sqlContext = SQLContext(sc)"
   ]
  },
  {
   "cell_type": "markdown",
   "metadata": {},
   "source": [
    "A sample DataFrame is created, that shows numbers and their ASCII representation,"
   ]
  },
  {
   "cell_type": "code",
   "execution_count": null,
   "metadata": {},
   "outputs": [],
   "source": [
    "sampleDF = sqlContext.createDataFrame(sc.parallelize(range(0, 128))\n",
    "                                      .map(lambda i: Row(number=i, ASCII_representation= chr(i))))\n",
    "sampleDF.printSchema()\n",
    "sampleDF.registerTempTable(\"df\")\n",
    "sqlContext.sql(\"SELECT number, ASCII_representation from df WHERE number > 64 LIMIT 10\").show()"
   ]
  },
  {
   "cell_type": "markdown",
   "metadata": {},
   "source": [
    " and is inserted into MariaDB CoumnStore through JDBC in database \"test\" table \"pythonexample\"."
   ]
  },
  {
   "cell_type": "code",
   "execution_count": null,
   "metadata": {},
   "outputs": [],
   "source": [
    "sampleDF.write \\\n",
    "    .mode(\"overwrite\") \\\n",
    "    .option(\"numPartitions\", 1) \\\n",
    "    .option(\"createTableOptions\", \"ENGINE=columnstore\") \\\n",
    "    .option(\"createTableColumnTypes\", \"number INT, ASCII_representation CHAR(1)\") \\\n",
    "    .jdbc(url, \"test.pythonexample\", properties=properties)"
   ]
  },
  {
   "cell_type": "markdown",
   "metadata": {},
   "source": [
    "## Insert through native ColumnStore API (bulk insert)\n",
    "Variables to connect to MariaDB ColumnStore through the native ColumnStore API are already set in /usr/local/mariadb/columnstore/etc/Columnstore.xml.\n",
    "\n",
    "The necessary library is loaded, the ColumnStoreDriver is instantiated, and table \"pythonexample\" in database \"test\" is set for the bulk insert."
   ]
  },
  {
   "cell_type": "code",
   "execution_count": null,
   "metadata": {},
   "outputs": [],
   "source": [
    "import pymcsapi\n",
    "\n",
    "driver = pymcsapi.ColumnStoreDriver()\n",
    "bulk = driver.createBulkInsert('test', 'pythonexample', 0, 0)"
   ]
  },
  {
   "cell_type": "markdown",
   "metadata": {},
   "source": [
    "Data is inserted into ColumnStore."
   ]
  },
  {
   "cell_type": "code",
   "execution_count": null,
   "metadata": {},
   "outputs": [],
   "source": [
    "for row in sampleDF.collect():\n",
    "    bulk.setColumn(0, row.ASCII_representation)\n",
    "    bulk.setColumn(1, row.number)\n",
    "    bulk.writeRow()\n",
    "    \n",
    "bulk.commit()"
   ]
  },
  {
   "cell_type": "markdown",
   "metadata": {},
   "source": [
    "Finally, a summary of the insert process is shown."
   ]
  },
  {
   "cell_type": "code",
   "execution_count": null,
   "metadata": {},
   "outputs": [],
   "source": [
    "summary = bulk.getSummary()\n",
    "print(\"Execution time: %s\" % (summary.getExecutionTime(),))\n",
    "print(\"Rows inserted: %s\" % (summary.getRowsInsertedCount(),))\n",
    "print(\"Truncation count: %s\" % (summary.getTruncationCount(),))\n",
    "print(\"Saturated count: %s\" % (summary.getSaturatedCount(),))\n",
    "print(\"Invalid count: %s\" % (summary.getInvalidCount(),))"
   ]
  },
  {
   "cell_type": "markdown",
   "metadata": {},
   "source": [
    "## Insert through custom function and ColumnStore API (automatic type detection)\n",
    "Requires an existing table with a corresponding schema."
   ]
  },
  {
   "cell_type": "code",
   "execution_count": null,
   "metadata": {},
   "outputs": [],
   "source": [
    "import sys, pymcsapi, decimal, datetime\n",
    "\n",
    "def export(database, table, df):\n",
    "    \n",
    "    global long\n",
    "    python2 = True\n",
    "\n",
    "    if sys.version_info[0] == 3:\n",
    "        long = int\n",
    "        python2 = False\n",
    "\n",
    "    rows = df.collect()\n",
    "    driver = pymcsapi.ColumnStoreDriver()\n",
    "    bulkInsert = driver.createBulkInsert(database, table, 0, 0)\n",
    "    \n",
    "    # get the column count of table\n",
    "    dbCatalog = driver.getSystemCatalog()\n",
    "    dbTable = dbCatalog.getTable(database, table)\n",
    "    dbTableColumnCount = dbTable.getColumnCount()\n",
    "    \n",
    "    # insert row by row into table\n",
    "    try:\n",
    "        for row in rows:\n",
    "            for columnId in range(0, len(row)):\n",
    "                if columnId < dbTableColumnCount:\n",
    "                    if isinstance(row[columnId], bool):\n",
    "                        if row[columnId]:\n",
    "                            bulkInsert.setColumn(columnId, 1)\n",
    "                        else:\n",
    "                            bulkInsert.setColumn(columnId, 0)\n",
    "                    \n",
    "                    elif isinstance(row[columnId], datetime.date):\n",
    "                        bulkInsert.setColumn(columnId, row[columnId].strftime('%Y-%m-%d %H:%M:%S'))\n",
    "                    \n",
    "                    elif isinstance(row[columnId], decimal.Decimal):\n",
    "                        dbColumn = dbTable.getColumn(columnId)\n",
    "                        #DATA_TYPE_DECIMAL, DATA_TYPE_UDECIMAL, DATA_TYPE_FLOAT, DATA_TYPE_UFLOAT, DATA_TYPE_DOUBLE, DATA_TYPE_UDOUBLE\n",
    "                        if dbColumn.getType() == 4 or dbColumn.getType() == 18 or dbColumn.getType() == 7 or dbColumn.getType() == 21 or dbColumn.getType() == 10 or dbColumn.getType() == 23:\n",
    "                            s = '{0:f}'.format(row[columnId])\n",
    "                            bulkInsert.setColumn(columnId, pymcsapi.ColumnStoreDecimal(s))\n",
    "                        #ANY OTHER DATA TYPE\n",
    "                        else:\n",
    "                            bulkInsert.setColumn(columnId, long(row[columnId]))\n",
    "    \n",
    "                    #handle python2 unicode strings\n",
    "                    elif python2 and isinstance(row[columnId], unicode):\n",
    "                        bulkInsert.setColumn(columnId, row[columnId].encode('utf-8'))\n",
    "\n",
    "                    #any other datatype is inserted without parsing\n",
    "                    else:\n",
    "                        bulkInsert.setColumn(columnId, row[columnId])\n",
    "            bulkInsert.writeRow()\n",
    "        bulkInsert.commit()\n",
    "    except Exception as e:\n",
    "        bulkInsert.rollback()\n",
    "        print(row[columnId], type(row[columnId]))\n",
    "        print(type(e))\n",
    "        print(e)\n",
    "       \n",
    "    #print a short summary of the insertion process\n",
    "    summary = bulkInsert.getSummary()\n",
    "    print(\"Execution time: %s\" % (summary.getExecutionTime(),))\n",
    "    print(\"Rows inserted: %s\" % (summary.getRowsInsertedCount(),))\n",
    "    print(\"Truncation count: %s\" %(summary.getTruncationCount(),))\n",
    "    print(\"Saturated count: %s\" %(summary.getSaturatedCount(),))\n",
    "    print(\"Invalid count: %s\" %(summary.getInvalidCount(),))"
   ]
  },
  {
   "cell_type": "code",
   "execution_count": null,
   "metadata": {},
   "outputs": [],
   "source": [
    "export(\"test\",\"pythonexample\",sampleDF)"
   ]
  }
 ],
 "metadata": {
  "kernelspec": {
   "display_name": "Python 3",
   "language": "python",
   "name": "python3"
  },
  "language_info": {
   "codemirror_mode": {
    "name": "ipython",
    "version": 3
   },
   "file_extension": ".py",
   "mimetype": "text/x-python",
   "name": "python",
   "nbconvert_exporter": "python",
   "pygments_lexer": "ipython3",
   "version": "3.6.3"
  }
 },
 "nbformat": 4,
 "nbformat_minor": 2
}
